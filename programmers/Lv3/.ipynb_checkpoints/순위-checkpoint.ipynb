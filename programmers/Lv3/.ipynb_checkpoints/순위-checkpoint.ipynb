{
 "cells": [
  {
   "cell_type": "code",
   "execution_count": 1,
   "metadata": {},
   "outputs": [],
   "source": [
    "def solution(n, results):\n",
    "    answer = 0\n",
    "    return answer"
   ]
  },
  {
   "cell_type": "code",
   "execution_count": 2,
   "metadata": {},
   "outputs": [],
   "source": [
    "n = 5\n",
    "results = [[4, 3], [4, 2], [3, 2], [1, 2], [2, 5]]"
   ]
  },
  {
   "cell_type": "code",
   "execution_count": 44,
   "metadata": {},
   "outputs": [],
   "source": [
    "def solution(n, results):\n",
    "    # dictionary 초기화 \n",
    "    n_dict = {}\n",
    "    for i in range(1, n+1):\n",
    "        n_dict[i] = {}\n",
    "        n_dict[i]['win'] = set()\n",
    "        n_dict[i]['lose'] = set()\n",
    "\n",
    "    for result in results:\n",
    "        winner, loser = result\n",
    "\n",
    "        # update loser\n",
    "        n_dict[loser]['lose'].add(winner)\n",
    "\n",
    "        # update winner\n",
    "        n_dict[winner]['win'].add(loser)\n",
    "\n",
    "        # update other winners\n",
    "        winners = n_dict[winner]['lose']\n",
    "        if winners:\n",
    "            for player in winners:\n",
    "                n_dict[player]['win'].add(loser)\n",
    "                n_dict[loser]['lose'].add(player)    \n",
    "\n",
    "    count = 0\n",
    "    for key in n_dict:\n",
    "        size = len(n_dict[key]['win']) + len(n_dict[key]['lose'])\n",
    "        if size == n-1:\n",
    "            count += 1            \n",
    "\n",
    "    return count"
   ]
  },
  {
   "cell_type": "code",
   "execution_count": null,
   "metadata": {},
   "outputs": [],
   "source": []
  },
  {
   "cell_type": "code",
   "execution_count": 45,
   "metadata": {},
   "outputs": [],
   "source": [
    "n = 5 \n",
    "results = [[1, 2], [4, 5], [3, 4], [2, 3]] \n",
    "#5"
   ]
  },
  {
   "cell_type": "code",
   "execution_count": 55,
   "metadata": {},
   "outputs": [
    {
     "data": {
      "text/plain": [
       "{1, 2, 3}"
      ]
     },
     "execution_count": 55,
     "metadata": {},
     "output_type": "execute_result"
    }
   ],
   "source": [
    "n_dict[1]['win'] | n_dict[loser]['lose']"
   ]
  },
  {
   "cell_type": "code",
   "execution_count": null,
   "metadata": {},
   "outputs": [],
   "source": []
  },
  {
   "cell_type": "code",
   "execution_count": 47,
   "metadata": {},
   "outputs": [
    {
     "data": {
      "text/plain": [
       "0"
      ]
     },
     "execution_count": 47,
     "metadata": {},
     "output_type": "execute_result"
    }
   ],
   "source": [
    "# dictionary 초기화 \n",
    "n_dict = {}\n",
    "for i in range(1, n+1):\n",
    "    n_dict[i] = {}\n",
    "    n_dict[i]['win'] = set()\n",
    "    n_dict[i]['lose'] = set()\n",
    "\n",
    "for result in results:\n",
    "    winner, loser = result\n",
    "\n",
    "    # update loser\n",
    "    n_dict[loser]['lose'].add(winner)\n",
    "\n",
    "    # update winner\n",
    "    n_dict[winner]['win'].add(loser)\n",
    "\n",
    "    # update other winners\n",
    "    winners = n_dict[winner]['lose']\n",
    "    if winners:\n",
    "        for player in winners:\n",
    "            n_dict[player]['win'].add(loser)\n",
    "            n_dict[player]['win'] | n_dict[loser]['lose']\n",
    "            n_dict[loser]['lose'].add(player)    \n",
    "\n",
    "count = 0\n",
    "for key in n_dict:\n",
    "    size = len(n_dict[key]['win']) + len(n_dict[key]['lose'])\n",
    "    if size == n-1:\n",
    "        count += 1    \n",
    "        \n",
    "count"
   ]
  },
  {
   "cell_type": "code",
   "execution_count": 48,
   "metadata": {},
   "outputs": [
    {
     "data": {
      "text/plain": [
       "{1: {'win': {2, 3}, 'lose': set()},\n",
       " 2: {'win': {3}, 'lose': {1}},\n",
       " 3: {'win': {4}, 'lose': {1, 2}},\n",
       " 4: {'win': {5}, 'lose': {3}},\n",
       " 5: {'win': set(), 'lose': {4}}}"
      ]
     },
     "execution_count": 48,
     "metadata": {},
     "output_type": "execute_result"
    }
   ],
   "source": [
    "n_dict"
   ]
  },
  {
   "cell_type": "code",
   "execution_count": null,
   "metadata": {},
   "outputs": [],
   "source": []
  },
  {
   "cell_type": "code",
   "execution_count": null,
   "metadata": {},
   "outputs": [],
   "source": []
  },
  {
   "cell_type": "code",
   "execution_count": null,
   "metadata": {},
   "outputs": [],
   "source": []
  }
 ],
 "metadata": {
  "kernelspec": {
   "display_name": "Python 3",
   "language": "python",
   "name": "python3"
  },
  "language_info": {
   "codemirror_mode": {
    "name": "ipython",
    "version": 3
   },
   "file_extension": ".py",
   "mimetype": "text/x-python",
   "name": "python",
   "nbconvert_exporter": "python",
   "pygments_lexer": "ipython3",
   "version": "3.7.3"
  }
 },
 "nbformat": 4,
 "nbformat_minor": 4
}
